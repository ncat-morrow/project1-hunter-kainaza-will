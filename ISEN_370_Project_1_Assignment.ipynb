{
 "cells": [
  {
   "cell_type": "markdown",
   "metadata": {
    "colab_type": "text",
    "id": "view-in-github"
   },
   "source": [
    "<a href=\"https://colab.research.google.com/github/StevenXJiang/DataScienceModule1/blob/main/ISEN_370_Project_1_Assignment.ipynb\" target=\"_parent\"><img src=\"https://colab.research.google.com/assets/colab-badge.svg\" alt=\"Open In Colab\"/></a>"
   ]
  },
  {
   "cell_type": "markdown",
   "metadata": {
    "id": "ORIRg6IK6lqT"
   },
   "source": [
    "# ISEN 370 Project 1 Assignment\n",
    "In this assignment, you will use data science tools to build basic statistics for a Building dataset.\n",
    "You can use ISEN 370 Module 1 Project Demo file as a reference when completing this assignment.\n"
   ]
  },
  {
   "cell_type": "markdown",
   "metadata": {
    "id": "_yN-yrSITXXO"
   },
   "source": [
    "First, you will need to import libraries to the project (note you should be able to find out the three libraries that need to be imported from the project demo file.) <br>\n",
    "For your convenience, the first line has been provided below. Add two more lines to complete importing the libraries."
   ]
  },
  {
   "cell_type": "code",
   "execution_count": 14,
   "metadata": {
    "ExecuteTime": {
     "end_time": "2024-06-11T23:40:31.751258Z",
     "start_time": "2024-06-11T23:40:30.632970Z"
    },
    "id": "4y1CM1g7kkbB"
   },
   "outputs": [],
   "source": [
    "import numpy as np\n"
   ]
  },
  {
   "cell_type": "code",
   "execution_count": 15,
   "metadata": {
    "ExecuteTime": {
     "end_time": "2024-06-11T23:40:36.451718Z",
     "start_time": "2024-06-11T23:40:31.756826Z"
    },
    "id": "oB92AdK6FX7M"
   },
   "outputs": [],
   "source": [
    "import pandas as pd"
   ]
  },
  {
   "cell_type": "code",
   "execution_count": 16,
   "metadata": {
    "ExecuteTime": {
     "end_time": "2024-06-11T23:40:39.326117Z",
     "start_time": "2024-06-11T23:40:36.457528Z"
    },
    "id": "rYFaLHYiFXnr"
   },
   "outputs": [],
   "source": [
    "import matplotlib.pyplot as plt"
   ]
  },
  {
   "cell_type": "markdown",
   "metadata": {
    "id": "3qsXYkC_6_r-"
   },
   "source": [
    "## Data Import\n",
    "\n",
    "First, import the Building dataset and print the first 5 rows of data. The data is stored in a CSV file for which the path is given in the cell below."
   ]
  },
  {
   "cell_type": "code",
   "execution_count": 17,
   "metadata": {
    "ExecuteTime": {
     "end_time": "2024-06-11T23:40:39.336888Z",
     "start_time": "2024-06-11T23:40:39.330712Z"
    },
    "id": "oWmt7-Ye7RY8"
   },
   "outputs": [],
   "source": [
    "data_url='https://raw.githubusercontent.com/StevenXJiang/ISEN370/main/VU_Building_Data_for_ISEN370_Spr_2020.csv?token=ATX4K2JD7Q2UQAH4KW5VFJTAPW3LQ'\n"
   ]
  },
  {
   "cell_type": "markdown",
   "metadata": {
    "id": "PM69GHhR67pA"
   },
   "source": [
    "## Exploring Data"
   ]
  },
  {
   "cell_type": "markdown",
   "metadata": {
    "id": "xXX6QS98UBQo"
   },
   "source": [
    "Provide two lines of code below to read the csv data and display the first 5 rows of data."
   ]
  },
  {
   "cell_type": "code",
   "execution_count": 18,
   "metadata": {
    "ExecuteTime": {
     "end_time": "2024-06-11T23:40:40.934524Z",
     "start_time": "2024-06-11T23:40:39.340886Z"
    },
    "id": "zdwkCZlR_ssb"
   },
   "outputs": [
    {
     "data": {
      "text/html": [
       "<div>\n",
       "<style scoped>\n",
       "    .dataframe tbody tr th:only-of-type {\n",
       "        vertical-align: middle;\n",
       "    }\n",
       "\n",
       "    .dataframe tbody tr th {\n",
       "        vertical-align: top;\n",
       "    }\n",
       "\n",
       "    .dataframe thead th {\n",
       "        text-align: right;\n",
       "    }\n",
       "</style>\n",
       "<table border=\"1\" class=\"dataframe\">\n",
       "  <thead>\n",
       "    <tr style=\"text-align: right;\">\n",
       "      <th></th>\n",
       "      <th>Time</th>\n",
       "      <th>Outside Air Temperature</th>\n",
       "      <th>Outside Air Relative Humidity</th>\n",
       "      <th>Solar Irradiation</th>\n",
       "      <th>Heating Water Flow Rate</th>\n",
       "      <th>Cooling Water Flow Rate</th>\n",
       "      <th>TotalEnergy</th>\n",
       "    </tr>\n",
       "  </thead>\n",
       "  <tbody>\n",
       "    <tr>\n",
       "      <th>0</th>\n",
       "      <td>5/1/2019 6:00</td>\n",
       "      <td>74.948134</td>\n",
       "      <td>45.975163</td>\n",
       "      <td>652.0</td>\n",
       "      <td>11.470796</td>\n",
       "      <td>52.921483</td>\n",
       "      <td>2368.259398</td>\n",
       "    </tr>\n",
       "    <tr>\n",
       "      <th>1</th>\n",
       "      <td>5/1/2019 12:00</td>\n",
       "      <td>72.712222</td>\n",
       "      <td>58.188965</td>\n",
       "      <td>40175.0</td>\n",
       "      <td>12.899331</td>\n",
       "      <td>56.676044</td>\n",
       "      <td>2492.051721</td>\n",
       "    </tr>\n",
       "    <tr>\n",
       "      <th>2</th>\n",
       "      <td>5/1/2019 18:00</td>\n",
       "      <td>77.303218</td>\n",
       "      <td>50.842554</td>\n",
       "      <td>28088.0</td>\n",
       "      <td>12.541347</td>\n",
       "      <td>74.263546</td>\n",
       "      <td>2780.193712</td>\n",
       "    </tr>\n",
       "    <tr>\n",
       "      <th>3</th>\n",
       "      <td>5/2/2019 0:00</td>\n",
       "      <td>79.858004</td>\n",
       "      <td>47.440794</td>\n",
       "      <td>147.0</td>\n",
       "      <td>7.017166</td>\n",
       "      <td>64.022101</td>\n",
       "      <td>3356.955541</td>\n",
       "    </tr>\n",
       "    <tr>\n",
       "      <th>4</th>\n",
       "      <td>5/2/2019 6:00</td>\n",
       "      <td>67.272050</td>\n",
       "      <td>80.017084</td>\n",
       "      <td>855.0</td>\n",
       "      <td>13.038960</td>\n",
       "      <td>51.157088</td>\n",
       "      <td>2679.355667</td>\n",
       "    </tr>\n",
       "  </tbody>\n",
       "</table>\n",
       "</div>"
      ],
      "text/plain": [
       "             Time  Outside Air Temperature  Outside Air Relative Humidity  \\\n",
       "0   5/1/2019 6:00                74.948134                      45.975163   \n",
       "1  5/1/2019 12:00                72.712222                      58.188965   \n",
       "2  5/1/2019 18:00                77.303218                      50.842554   \n",
       "3   5/2/2019 0:00                79.858004                      47.440794   \n",
       "4   5/2/2019 6:00                67.272050                      80.017084   \n",
       "\n",
       "   Solar Irradiation  Heating Water Flow Rate  Cooling Water Flow Rate  \\\n",
       "0              652.0                11.470796                52.921483   \n",
       "1            40175.0                12.899331                56.676044   \n",
       "2            28088.0                12.541347                74.263546   \n",
       "3              147.0                 7.017166                64.022101   \n",
       "4              855.0                13.038960                51.157088   \n",
       "\n",
       "   TotalEnergy  \n",
       "0  2368.259398  \n",
       "1  2492.051721  \n",
       "2  2780.193712  \n",
       "3  3356.955541  \n",
       "4  2679.355667  "
      ]
     },
     "execution_count": 18,
     "metadata": {},
     "output_type": "execute_result"
    }
   ],
   "source": [
    "#reading CSV data and displays first 5 rows of data\n",
    "import pandas as pd\n",
    "data = pd.read_csv(data_url)\n",
    "data.head(5)"
   ]
  },
  {
   "cell_type": "markdown",
   "metadata": {
    "id": "10krY0x-k8Nq"
   },
   "source": [
    "Display information about three variables: Heating Water Flow Rate,Cooling Water Flow Rate,and TotalEnergy.\n",
    "Provide the code to display the top five rows of the data with these three features (columns)."
   ]
  },
  {
   "cell_type": "code",
   "execution_count": 19,
   "metadata": {
    "ExecuteTime": {
     "end_time": "2024-06-11T23:40:40.980528Z",
     "start_time": "2024-06-11T23:40:40.939372Z"
    },
    "id": "TQj5WiImVM3Z"
   },
   "outputs": [
    {
     "data": {
      "text/html": [
       "<div>\n",
       "<style scoped>\n",
       "    .dataframe tbody tr th:only-of-type {\n",
       "        vertical-align: middle;\n",
       "    }\n",
       "\n",
       "    .dataframe tbody tr th {\n",
       "        vertical-align: top;\n",
       "    }\n",
       "\n",
       "    .dataframe thead th {\n",
       "        text-align: right;\n",
       "    }\n",
       "</style>\n",
       "<table border=\"1\" class=\"dataframe\">\n",
       "  <thead>\n",
       "    <tr style=\"text-align: right;\">\n",
       "      <th></th>\n",
       "      <th>Heating Water Flow Rate</th>\n",
       "      <th>Cooling Water Flow Rate</th>\n",
       "      <th>TotalEnergy</th>\n",
       "    </tr>\n",
       "  </thead>\n",
       "  <tbody>\n",
       "    <tr>\n",
       "      <th>0</th>\n",
       "      <td>11.470796</td>\n",
       "      <td>52.921483</td>\n",
       "      <td>2368.259398</td>\n",
       "    </tr>\n",
       "    <tr>\n",
       "      <th>1</th>\n",
       "      <td>12.899331</td>\n",
       "      <td>56.676044</td>\n",
       "      <td>2492.051721</td>\n",
       "    </tr>\n",
       "    <tr>\n",
       "      <th>2</th>\n",
       "      <td>12.541347</td>\n",
       "      <td>74.263546</td>\n",
       "      <td>2780.193712</td>\n",
       "    </tr>\n",
       "    <tr>\n",
       "      <th>3</th>\n",
       "      <td>7.017166</td>\n",
       "      <td>64.022101</td>\n",
       "      <td>3356.955541</td>\n",
       "    </tr>\n",
       "    <tr>\n",
       "      <th>4</th>\n",
       "      <td>13.038960</td>\n",
       "      <td>51.157088</td>\n",
       "      <td>2679.355667</td>\n",
       "    </tr>\n",
       "  </tbody>\n",
       "</table>\n",
       "</div>"
      ],
      "text/plain": [
       "   Heating Water Flow Rate  Cooling Water Flow Rate  TotalEnergy\n",
       "0                11.470796                52.921483  2368.259398\n",
       "1                12.899331                56.676044  2492.051721\n",
       "2                12.541347                74.263546  2780.193712\n",
       "3                 7.017166                64.022101  3356.955541\n",
       "4                13.038960                51.157088  2679.355667"
      ]
     },
     "execution_count": 19,
     "metadata": {},
     "output_type": "execute_result"
    }
   ],
   "source": [
    "#displaying heating water flow rate, cooling water flow rate, and total energy\n",
    "data[['Heating Water Flow Rate','Cooling Water Flow Rate','TotalEnergy']].head(5)\n"
   ]
  },
  {
   "cell_type": "markdown",
   "metadata": {
    "id": "RklW1Ll47aoQ"
   },
   "source": [
    "## Statistics Calculation\n",
    "\n",
    "Calculate and print some of the basic statistics for each of the three features of the dataset selected above. \n",
    "Be sure to include mean, minimum, maximum, and standard deviation and be sure to print it in such a way that it is clear what each number represents.\n",
    "hint: use describe() function."
   ]
  },
  {
   "cell_type": "code",
   "execution_count": 20,
   "metadata": {
    "ExecuteTime": {
     "end_time": "2024-06-11T23:40:41.048042Z",
     "start_time": "2024-06-11T23:40:40.987300Z"
    },
    "id": "XJYaSUJ7HC-4"
   },
   "outputs": [
    {
     "data": {
      "text/html": [
       "<div>\n",
       "<style scoped>\n",
       "    .dataframe tbody tr th:only-of-type {\n",
       "        vertical-align: middle;\n",
       "    }\n",
       "\n",
       "    .dataframe tbody tr th {\n",
       "        vertical-align: top;\n",
       "    }\n",
       "\n",
       "    .dataframe thead th {\n",
       "        text-align: right;\n",
       "    }\n",
       "</style>\n",
       "<table border=\"1\" class=\"dataframe\">\n",
       "  <thead>\n",
       "    <tr style=\"text-align: right;\">\n",
       "      <th></th>\n",
       "      <th>Heating Water Flow Rate</th>\n",
       "      <th>Cooling Water Flow Rate</th>\n",
       "      <th>TotalEnergy</th>\n",
       "    </tr>\n",
       "  </thead>\n",
       "  <tbody>\n",
       "    <tr>\n",
       "      <th>count</th>\n",
       "      <td>491.000000</td>\n",
       "      <td>491.000000</td>\n",
       "      <td>491.000000</td>\n",
       "    </tr>\n",
       "    <tr>\n",
       "      <th>mean</th>\n",
       "      <td>6.026137</td>\n",
       "      <td>64.031205</td>\n",
       "      <td>2881.193446</td>\n",
       "    </tr>\n",
       "    <tr>\n",
       "      <th>std</th>\n",
       "      <td>4.708605</td>\n",
       "      <td>16.692397</td>\n",
       "      <td>606.331720</td>\n",
       "    </tr>\n",
       "    <tr>\n",
       "      <th>min</th>\n",
       "      <td>-0.177515</td>\n",
       "      <td>8.878288</td>\n",
       "      <td>362.733959</td>\n",
       "    </tr>\n",
       "    <tr>\n",
       "      <th>25%</th>\n",
       "      <td>1.745773</td>\n",
       "      <td>56.598197</td>\n",
       "      <td>2646.715958</td>\n",
       "    </tr>\n",
       "    <tr>\n",
       "      <th>50%</th>\n",
       "      <td>5.349544</td>\n",
       "      <td>64.544967</td>\n",
       "      <td>2947.975624</td>\n",
       "    </tr>\n",
       "    <tr>\n",
       "      <th>75%</th>\n",
       "      <td>9.965375</td>\n",
       "      <td>73.067575</td>\n",
       "      <td>3218.447579</td>\n",
       "    </tr>\n",
       "    <tr>\n",
       "      <th>max</th>\n",
       "      <td>13.520079</td>\n",
       "      <td>113.429115</td>\n",
       "      <td>4685.391836</td>\n",
       "    </tr>\n",
       "  </tbody>\n",
       "</table>\n",
       "</div>"
      ],
      "text/plain": [
       "       Heating Water Flow Rate  Cooling Water Flow Rate  TotalEnergy\n",
       "count               491.000000               491.000000   491.000000\n",
       "mean                  6.026137                64.031205  2881.193446\n",
       "std                   4.708605                16.692397   606.331720\n",
       "min                  -0.177515                 8.878288   362.733959\n",
       "25%                   1.745773                56.598197  2646.715958\n",
       "50%                   5.349544                64.544967  2947.975624\n",
       "75%                   9.965375                73.067575  3218.447579\n",
       "max                  13.520079               113.429115  4685.391836"
      ]
     },
     "execution_count": 20,
     "metadata": {},
     "output_type": "execute_result"
    }
   ],
   "source": [
    "#calculating basic statsitcs of the three features (heating water flow rate, cooling water flow rate, and total energy)\n",
    "data[['Heating Water Flow Rate','Cooling Water Flow Rate','TotalEnergy']].describe()"
   ]
  },
  {
   "cell_type": "markdown",
   "metadata": {
    "id": "aHvdhLAp8JwS"
   },
   "source": [
    "## Histogram Plotting\n",
    "Plot a histogram for each of the three features of the dataset. Be sure to include proper titles and axis labels on each of your plots."
   ]
  },
  {
   "cell_type": "code",
   "execution_count": 21,
   "metadata": {
    "ExecuteTime": {
     "end_time": "2024-06-11T23:40:41.744846Z",
     "start_time": "2024-06-11T23:40:41.055027Z"
    },
    "id": "D5TXXDg58Wwn"
   },
   "outputs": [
    {
     "data": {
      "text/plain": [
       "(array([109.,  36.,  48.,  51.,  45.,  27.,  44.,  16.,  20.,  95.]),\n",
       " array([-0.17751475,  1.1922446 ,  2.56200395,  3.9317633 ,  5.30152265,\n",
       "         6.671282  ,  8.04104135,  9.4108007 , 10.78056005, 12.1503194 ,\n",
       "        13.52007875]),\n",
       " <BarContainer object of 10 artists>)"
      ]
     },
     "execution_count": 21,
     "metadata": {},
     "output_type": "execute_result"
    },
    {
     "data": {
      "image/png": "[encoded data removed]",
      "text/plain": [
       "<Figure size 640x480 with 1 Axes>"
      ]
     },
     "metadata": {},
     "output_type": "display_data"
    }
   ],
   "source": [
    "#plotting histogram for heating water flow rate\n",
    "plt.hist(data['Heating Water Flow Rate'], bins=10, color='blue', edgecolor='black')"
   ]
  },
  {
   "cell_type": "code",
   "execution_count": 22,
   "metadata": {
    "ExecuteTime": {
     "end_time": "2024-06-11T23:40:42.114293Z",
     "start_time": "2024-06-11T23:40:41.748954Z"
    },
    "id": "v3vErKQQJY8T"
   },
   "outputs": [
    {
     "data": {
      "text/plain": [
       "(array([  7.,  14.,  25.,  19., 124., 164.,  83.,  30.,  18.,   7.]),\n",
       " array([  8.87828783,  19.3333706 ,  29.78845337,  40.24353613,\n",
       "         50.6986189 ,  61.15370167,  71.60878443,  82.0638672 ,\n",
       "         92.51894997, 102.97403273, 113.4291155 ]),\n",
       " <BarContainer object of 10 artists>)"
      ]
     },
     "execution_count": 22,
     "metadata": {},
     "output_type": "execute_result"
    },
    {
     "data": {
      "image/png": "[encoded data removed]",
      "text/plain": [
       "<Figure size 640x480 with 1 Axes>"
      ]
     },
     "metadata": {},
     "output_type": "display_data"
    }
   ],
   "source": [
    "#plotting histogram for cooling water flow rate\n",
    "plt.hist(data['Cooling Water Flow Rate'], bins=10, color='red', edgecolor='black')"
   ]
  },
  {
   "cell_type": "code",
   "execution_count": 23,
   "metadata": {
    "ExecuteTime": {
     "end_time": "2024-06-11T23:40:42.389699Z",
     "start_time": "2024-06-11T23:40:42.121505Z"
    },
    "id": "wOzz0q2NKk66"
   },
   "outputs": [
    {
     "data": {
      "text/plain": [
       "(array([  6.,   3.,  13.,  28.,  42., 160., 156.,  64.,  16.,   3.]),\n",
       " array([ 362.7339585 ,  794.99974625, 1227.265534  , 1659.53132175,\n",
       "        2091.7971095 , 2524.06289725, 2956.328685  , 3388.59447275,\n",
       "        3820.8602605 , 4253.12604825, 4685.391836  ]),\n",
       " <BarContainer object of 10 artists>)"
      ]
     },
     "execution_count": 23,
     "metadata": {},
     "output_type": "execute_result"
    },
    {
     "data": {
      "image/png": "[encoded data removed]",
      "text/plain": [
       "<Figure size 640x480 with 1 Axes>"
      ]
     },
     "metadata": {},
     "output_type": "display_data"
    }
   ],
   "source": [
    "#plotting histogram for total energy\n",
    "plt.hist(data['TotalEnergy'], bins=10, color='green', edgecolor='black')"
   ]
  },
  {
   "cell_type": "code",
   "execution_count": null,
   "metadata": {
    "ExecuteTime": {
     "end_time": "2024-06-11T23:40:42.397218Z",
     "start_time": "2024-06-11T23:40:42.392346Z"
    },
    "id": "t5cs6VfkSNxk"
   },
   "outputs": [],
   "source": []
  },
  {
   "cell_type": "markdown",
   "metadata": {
    "id": "et2TPHnI8Xmx"
   },
   "source": [
    "**Question**\n",
    "\n",
    "For each of the features, comment on the shape of the distribution. \n",
    "\n",
    "Enter your answer in the text cell below:"
   ]
  },
  {
   "cell_type": "markdown",
   "metadata": {
    "id": "2k-pzbE28zTh"
   },
   "source": [
    "**Answer:**\n",
    "The heating water flow rate distribution is right-skewed, the cooling water flow rate distribution is left-skewed, and the total energy distribution is right-skewed.\n"
   ]
  },
  {
   "cell_type": "markdown",
   "metadata": {
    "id": "N-Ysc1rLUEE5"
   },
   "source": [
    "## Scatter Plot "
   ]
  },
  {
   "cell_type": "markdown",
   "metadata": {
    "id": "21mdTAOrWH0s"
   },
   "source": [
    "Create three scatter plots: the x axis for each plot is time and the y-axis of the plot represents each of the three features."
   ]
  },
  {
   "cell_type": "code",
   "execution_count": 24,
   "metadata": {
    "ExecuteTime": {
     "end_time": "2024-06-11T23:40:48.391976Z",
     "start_time": "2024-06-11T23:40:42.398909Z"
    },
    "id": "HlTnAR2PUIJf"
   },
   "outputs": [
    {
     "data": {
      "text/plain": [
       "<matplotlib.collections.PathCollection at 0x22139316f00>"
      ]
     },
     "execution_count": 24,
     "metadata": {},
     "output_type": "execute_result"
    },
    {
     "data": {
      "image/png": "[encoded data removed]",
      "text/plain": [
       "<Figure size 640x480 with 1 Axes>"
      ]
     },
     "metadata": {},
     "output_type": "display_data"
    }
   ],
   "source": [
    "#scatter plot for heating water flow rate\n",
    "plt.scatter(data['Time'], data['Heating Water Flow Rate'])"
   ]
  },
  {
   "cell_type": "code",
   "execution_count": 25,
   "metadata": {
    "ExecuteTime": {
     "end_time": "2024-06-11T23:40:53.920599Z",
     "start_time": "2024-06-11T23:40:48.394288Z"
    },
    "id": "k9xb4DxHUuZg"
   },
   "outputs": [
    {
     "data": {
      "text/plain": [
       "<matplotlib.collections.PathCollection at 0x2213b2e6f00>"
      ]
     },
     "execution_count": 25,
     "metadata": {},
     "output_type": "execute_result"
    },
    {
     "data": {
      "image/png": "[encoded data removed]",
      "text/plain": [
       "<Figure size 640x480 with 1 Axes>"
      ]
     },
     "metadata": {},
     "output_type": "display_data"
    }
   ],
   "source": [
    "#scatter plot for cooling water flow rate\n",
    "plt.scatter(data['Time'], data['Cooling Water Flow Rate'])"
   ]
  },
  {
   "cell_type": "code",
   "execution_count": null,
   "metadata": {
    "ExecuteTime": {
     "end_time": "2024-06-11T23:40:59.188978Z",
     "start_time": "2024-06-11T23:40:53.922598Z"
    },
    "id": "R_Z11ZpxU-Dc"
   },
   "outputs": [
    {
     "data": {
      "text/plain": [
       "<matplotlib.collections.PathCollection at 0x2213b3d6a80>"
      ]
     },
     "execution_count": 26,
     "metadata": {},
     "output_type": "execute_result"
    }
   ],
   "source": [
    "#scatter plot for total energy\n",
    "plt.scatter(data['Time'], data['TotalEnergy'])"
   ]
  },
  {
   "cell_type": "markdown",
   "metadata": {
    "id": "YWeZ8fyXWl1A"
   },
   "source": [
    "In the spalce below, type your experience with your colab project experience. What you like, what you dislike and what you would like to experience in the future colab projects."
   ]
  },
  {
   "cell_type": "markdown",
   "metadata": {
    "id": "v5mP4bx9WzcT"
   },
   "source": [
    "I have expierence with pythonm so the coding was usefull and not overly challenging, but I could see it being more difficult for a new user, espically installing numpy, pands and matplotlib. I don't have any experince with jupyter notebooks, so I found it difficult to navigate and use. I would like to experience more colab projects in the future to get more comfortable with the platform."
   ]
  },
  {
   "cell_type": "code",
   "execution_count": null,
   "metadata": {},
   "outputs": [],
   "source": []
  },
  {
   "cell_type": "code",
   "execution_count": null,
   "metadata": {},
   "outputs": [],
   "source": []
  },
  {
   "cell_type": "code",
   "execution_count": null,
   "metadata": {},
   "outputs": [],
   "source": []
  },
  {
   "metadata": {},
   "cell_type": "markdown",
   "source": "<a href=\"https://colab.research.google.com/github/StevenXJiang/DataScienceModule1/blob/main/ISEN_370_Project_1_Assignment.ipynb\" target=\"_parent\"><img src=\"https://colab.research.google.com/assets/colab-badge.svg\" alt=\"Open In Colab\"/></a>"
  },
  {
   "metadata": {},
   "cell_type": "markdown",
   "source": [
    "# ISEN 370 Project 1 Assignment\n",
    "In this assignment, you will use data science tools to build basic statistics for a Building dataset.\n",
    "You can use ISEN 370 Module 1 Project Demo file as a reference when completing this assignment.\n"
   ]
  },
  {
   "metadata": {},
   "cell_type": "markdown",
   "source": [
    "First, you will need to import libraries to the project (note you should be able to find out the three libraries that need to be imported from the project demo file.) <br>\n",
    "For your convenience, the first line has been provided below. Add two more lines to complete importing the libraries."
   ]
  },
  {
   "metadata": {},
   "cell_type": "code",
   "outputs": [],
   "execution_count": 14,
   "source": "import numpy as np\n"
  },
  {
   "metadata": {},
   "cell_type": "code",
   "outputs": [],
   "execution_count": 15,
   "source": "import pandas as pd"
  },
  {
   "metadata": {},
   "cell_type": "code",
   "outputs": [],
   "execution_count": 16,
   "source": "import matplotlib.pyplot as plt"
  },
  {
   "metadata": {},
   "cell_type": "markdown",
   "source": [
    "## Data Import\n",
    "\n",
    "First, import the Building dataset and print the first 5 rows of data. The data is stored in a CSV file for which the path is given in the cell below."
   ]
  },
  {
   "metadata": {},
   "cell_type": "code",
   "outputs": [],
   "execution_count": 17,
   "source": "data_url='https://raw.githubusercontent.com/StevenXJiang/ISEN370/main/VU_Building_Data_for_ISEN370_Spr_2020.csv?token=ATX4K2JD7Q2UQAH4KW5VFJTAPW3LQ'\n"
  },
  {
   "metadata": {},
   "cell_type": "markdown",
   "source": "## Exploring Data"
  },
  {
   "metadata": {},
   "cell_type": "markdown",
   "source": "Provide two lines of code below to read the csv data and display the first 5 rows of data."
  },
  {
   "metadata": {},
   "cell_type": "code",
   "outputs": [
    {
     "data": {
      "text/html": [
       "<div>\n",
       "<style scoped>\n",
       "    .dataframe tbody tr th:only-of-type {\n",
       "        vertical-align: middle;\n",
       "    }\n",
       "\n",
       "    .dataframe tbody tr th {\n",
       "        vertical-align: top;\n",
       "    }\n",
       "\n",
       "    .dataframe thead th {\n",
       "        text-align: right;\n",
       "    }\n",
       "</style>\n",
       "<table border=\"1\" class=\"dataframe\">\n",
       "  <thead>\n",
       "    <tr style=\"text-align: right;\">\n",
       "      <th></th>\n",
       "      <th>Time</th>\n",
       "      <th>Outside Air Temperature</th>\n",
       "      <th>Outside Air Relative Humidity</th>\n",
       "      <th>Solar Irradiation</th>\n",
       "      <th>Heating Water Flow Rate</th>\n",
       "      <th>Cooling Water Flow Rate</th>\n",
       "      <th>TotalEnergy</th>\n",
       "    </tr>\n",
       "  </thead>\n",
       "  <tbody>\n",
       "    <tr>\n",
       "      <th>0</th>\n",
       "      <td>5/1/2019 6:00</td>\n",
       "      <td>74.948134</td>\n",
       "      <td>45.975163</td>\n",
       "      <td>652.0</td>\n",
       "      <td>11.470796</td>\n",
       "      <td>52.921483</td>\n",
       "      <td>2368.259398</td>\n",
       "    </tr>\n",
       "    <tr>\n",
       "      <th>1</th>\n",
       "      <td>5/1/2019 12:00</td>\n",
       "      <td>72.712222</td>\n",
       "      <td>58.188965</td>\n",
       "      <td>40175.0</td>\n",
       "      <td>12.899331</td>\n",
       "      <td>56.676044</td>\n",
       "      <td>2492.051721</td>\n",
       "    </tr>\n",
       "    <tr>\n",
       "      <th>2</th>\n",
       "      <td>5/1/2019 18:00</td>\n",
       "      <td>77.303218</td>\n",
       "      <td>50.842554</td>\n",
       "      <td>28088.0</td>\n",
       "      <td>12.541347</td>\n",
       "      <td>74.263546</td>\n",
       "      <td>2780.193712</td>\n",
       "    </tr>\n",
       "    <tr>\n",
       "      <th>3</th>\n",
       "      <td>5/2/2019 0:00</td>\n",
       "      <td>79.858004</td>\n",
       "      <td>47.440794</td>\n",
       "      <td>147.0</td>\n",
       "      <td>7.017166</td>\n",
       "      <td>64.022101</td>\n",
       "      <td>3356.955541</td>\n",
       "    </tr>\n",
       "    <tr>\n",
       "      <th>4</th>\n",
       "      <td>5/2/2019 6:00</td>\n",
       "      <td>67.272050</td>\n",
       "      <td>80.017084</td>\n",
       "      <td>855.0</td>\n",
       "      <td>13.038960</td>\n",
       "      <td>51.157088</td>\n",
       "      <td>2679.355667</td>\n",
       "    </tr>\n",
       "  </tbody>\n",
       "</table>\n",
       "</div>"
      ],
      "text/plain": [
       "             Time  Outside Air Temperature  Outside Air Relative Humidity  \\\n",
       "0   5/1/2019 6:00                74.948134                      45.975163   \n",
       "1  5/1/2019 12:00                72.712222                      58.188965   \n",
       "2  5/1/2019 18:00                77.303218                      50.842554   \n",
       "3   5/2/2019 0:00                79.858004                      47.440794   \n",
       "4   5/2/2019 6:00                67.272050                      80.017084   \n",
       "\n",
       "   Solar Irradiation  Heating Water Flow Rate  Cooling Water Flow Rate  \\\n",
       "0              652.0                11.470796                52.921483   \n",
       "1            40175.0                12.899331                56.676044   \n",
       "2            28088.0                12.541347                74.263546   \n",
       "3              147.0                 7.017166                64.022101   \n",
       "4              855.0                13.038960                51.157088   \n",
       "\n",
       "   TotalEnergy  \n",
       "0  2368.259398  \n",
       "1  2492.051721  \n",
       "2  2780.193712  \n",
       "3  3356.955541  \n",
       "4  2679.355667  "
      ]
     },
     "execution_count": 18,
     "metadata": {},
     "output_type": "execute_result"
    }
   ],
   "execution_count": 18,
   "source": [
    "#reading CSV data and displays first 5 rows of data\n",
    "import pandas as pd\n",
    "data = pd.read_csv(data_url)\n",
    "data.head(5)"
   ]
  },
  {
   "metadata": {},
   "cell_type": "markdown",
   "source": [
    "Display information about three variables: Heating Water Flow Rate,Cooling Water Flow Rate,and TotalEnergy.\n",
    "Provide the code to display the top five rows of the data with these three features (columns)."
   ]
  },
  {
   "metadata": {},
   "cell_type": "code",
   "outputs": [
    {
     "data": {
      "text/html": [
       "<div>\n",
       "<style scoped>\n",
       "    .dataframe tbody tr th:only-of-type {\n",
       "        vertical-align: middle;\n",
       "    }\n",
       "\n",
       "    .dataframe tbody tr th {\n",
       "        vertical-align: top;\n",
       "    }\n",
       "\n",
       "    .dataframe thead th {\n",
       "        text-align: right;\n",
       "    }\n",
       "</style>\n",
       "<table border=\"1\" class=\"dataframe\">\n",
       "  <thead>\n",
       "    <tr style=\"text-align: right;\">\n",
       "      <th></th>\n",
       "      <th>Heating Water Flow Rate</th>\n",
       "      <th>Cooling Water Flow Rate</th>\n",
       "      <th>TotalEnergy</th>\n",
       "    </tr>\n",
       "  </thead>\n",
       "  <tbody>\n",
       "    <tr>\n",
       "      <th>0</th>\n",
       "      <td>11.470796</td>\n",
       "      <td>52.921483</td>\n",
       "      <td>2368.259398</td>\n",
       "    </tr>\n",
       "    <tr>\n",
       "      <th>1</th>\n",
       "      <td>12.899331</td>\n",
       "      <td>56.676044</td>\n",
       "      <td>2492.051721</td>\n",
       "    </tr>\n",
       "    <tr>\n",
       "      <th>2</th>\n",
       "      <td>12.541347</td>\n",
       "      <td>74.263546</td>\n",
       "      <td>2780.193712</td>\n",
       "    </tr>\n",
       "    <tr>\n",
       "      <th>3</th>\n",
       "      <td>7.017166</td>\n",
       "      <td>64.022101</td>\n",
       "      <td>3356.955541</td>\n",
       "    </tr>\n",
       "    <tr>\n",
       "      <th>4</th>\n",
       "      <td>13.038960</td>\n",
       "      <td>51.157088</td>\n",
       "      <td>2679.355667</td>\n",
       "    </tr>\n",
       "  </tbody>\n",
       "</table>\n",
       "</div>"
      ],
      "text/plain": [
       "   Heating Water Flow Rate  Cooling Water Flow Rate  TotalEnergy\n",
       "0                11.470796                52.921483  2368.259398\n",
       "1                12.899331                56.676044  2492.051721\n",
       "2                12.541347                74.263546  2780.193712\n",
       "3                 7.017166                64.022101  3356.955541\n",
       "4                13.038960                51.157088  2679.355667"
      ]
     },
     "execution_count": 19,
     "metadata": {},
     "output_type": "execute_result"
    }
   ],
   "execution_count": 19,
   "source": [
    "#displaying heating water flow rate, cooling water flow rate, and total energy\n",
    "data[['Heating Water Flow Rate','Cooling Water Flow Rate','TotalEnergy']].head(5)\n"
   ]
  },
  {
   "metadata": {},
   "cell_type": "markdown",
   "source": [
    "## Statistics Calculation\n",
    "\n",
    "Calculate and print some of the basic statistics for each of the three features of the dataset selected above. \n",
    "Be sure to include mean, minimum, maximum, and standard deviation and be sure to print it in such a way that it is clear what each number represents.\n",
    "hint: use describe() function."
   ]
  },
  {
   "metadata": {},
   "cell_type": "code",
   "outputs": [
    {
     "data": {
      "text/html": [
       "<div>\n",
       "<style scoped>\n",
       "    .dataframe tbody tr th:only-of-type {\n",
       "        vertical-align: middle;\n",
       "    }\n",
       "\n",
       "    .dataframe tbody tr th {\n",
       "        vertical-align: top;\n",
       "    }\n",
       "\n",
       "    .dataframe thead th {\n",
       "        text-align: right;\n",
       "    }\n",
       "</style>\n",
       "<table border=\"1\" class=\"dataframe\">\n",
       "  <thead>\n",
       "    <tr style=\"text-align: right;\">\n",
       "      <th></th>\n",
       "      <th>Heating Water Flow Rate</th>\n",
       "      <th>Cooling Water Flow Rate</th>\n",
       "      <th>TotalEnergy</th>\n",
       "    </tr>\n",
       "  </thead>\n",
       "  <tbody>\n",
       "    <tr>\n",
       "      <th>count</th>\n",
       "      <td>491.000000</td>\n",
       "      <td>491.000000</td>\n",
       "      <td>491.000000</td>\n",
       "    </tr>\n",
       "    <tr>\n",
       "      <th>mean</th>\n",
       "      <td>6.026137</td>\n",
       "      <td>64.031205</td>\n",
       "      <td>2881.193446</td>\n",
       "    </tr>\n",
       "    <tr>\n",
       "      <th>std</th>\n",
       "      <td>4.708605</td>\n",
       "      <td>16.692397</td>\n",
       "      <td>606.331720</td>\n",
       "    </tr>\n",
       "    <tr>\n",
       "      <th>min</th>\n",
       "      <td>-0.177515</td>\n",
       "      <td>8.878288</td>\n",
       "      <td>362.733959</td>\n",
       "    </tr>\n",
       "    <tr>\n",
       "      <th>25%</th>\n",
       "      <td>1.745773</td>\n",
       "      <td>56.598197</td>\n",
       "      <td>2646.715958</td>\n",
       "    </tr>\n",
       "    <tr>\n",
       "      <th>50%</th>\n",
       "      <td>5.349544</td>\n",
       "      <td>64.544967</td>\n",
       "      <td>2947.975624</td>\n",
       "    </tr>\n",
       "    <tr>\n",
       "      <th>75%</th>\n",
       "      <td>9.965375</td>\n",
       "      <td>73.067575</td>\n",
       "      <td>3218.447579</td>\n",
       "    </tr>\n",
       "    <tr>\n",
       "      <th>max</th>\n",
       "      <td>13.520079</td>\n",
       "      <td>113.429115</td>\n",
       "      <td>4685.391836</td>\n",
       "    </tr>\n",
       "  </tbody>\n",
       "</table>\n",
       "</div>"
      ],
      "text/plain": [
       "       Heating Water Flow Rate  Cooling Water Flow Rate  TotalEnergy\n",
       "count               491.000000               491.000000   491.000000\n",
       "mean                  6.026137                64.031205  2881.193446\n",
       "std                   4.708605                16.692397   606.331720\n",
       "min                  -0.177515                 8.878288   362.733959\n",
       "25%                   1.745773                56.598197  2646.715958\n",
       "50%                   5.349544                64.544967  2947.975624\n",
       "75%                   9.965375                73.067575  3218.447579\n",
       "max                  13.520079               113.429115  4685.391836"
      ]
     },
     "execution_count": 20,
     "metadata": {},
     "output_type": "execute_result"
    }
   ],
   "execution_count": 20,
   "source": [
    "#calculating basic statsitcs of the three features (heating water flow rate, cooling water flow rate, and total energy)\n",
    "data[['Heating Water Flow Rate','Cooling Water Flow Rate','TotalEnergy']].describe()"
   ]
  },
  {
   "metadata": {},
   "cell_type": "markdown",
   "source": [
    "## Histogram Plotting\n",
    "Plot a histogram for each of the three features of the dataset. Be sure to include proper titles and axis labels on each of your plots."
   ]
  },
  {
   "metadata": {},
   "cell_type": "code",
   "outputs": [
    {
     "data": {
      "text/plain": [
       "(array([109.,  36.,  48.,  51.,  45.,  27.,  44.,  16.,  20.,  95.]),\n",
       " array([-0.17751475,  1.1922446 ,  2.56200395,  3.9317633 ,  5.30152265,\n",
       "         6.671282  ,  8.04104135,  9.4108007 , 10.78056005, 12.1503194 ,\n",
       "        13.52007875]),\n",
       " <BarContainer object of 10 artists>)"
      ]
     },
     "execution_count": 21,
     "metadata": {},
     "output_type": "execute_result"
    },
    {
     "data": {
      "image/png": "[encoded data removed]",
      "text/plain": [
       "<Figure size 640x480 with 1 Axes>"
      ]
     },
     "metadata": {},
     "output_type": "display_data"
    }
   ],
   "execution_count": 21,
   "source": [
    "#plotting histogram for heating water flow rate\n",
    "plt.hist(data['Heating Water Flow Rate'], bins=10, color='blue', edgecolor='black')"
   ]
  },
  {
   "metadata": {},
   "cell_type": "code",
   "outputs": [
    {
     "data": {
      "text/plain": [
       "(array([  7.,  14.,  25.,  19., 124., 164.,  83.,  30.,  18.,   7.]),\n",
       " array([  8.87828783,  19.3333706 ,  29.78845337,  40.24353613,\n",
       "         50.6986189 ,  61.15370167,  71.60878443,  82.0638672 ,\n",
       "         92.51894997, 102.97403273, 113.4291155 ]),\n",
       " <BarContainer object of 10 artists>)"
      ]
     },
     "execution_count": 22,
     "metadata": {},
     "output_type": "execute_result"
    },
    {
     "data": {
      "image/png": "[encoded data removed]",
      "text/plain": [
       "<Figure size 640x480 with 1 Axes>"
      ]
     },
     "metadata": {},
     "output_type": "display_data"
    }
   ],
   "execution_count": 22,
   "source": [
    "#plotting histogram for cooling water flow rate\n",
    "plt.hist(data['Cooling Water Flow Rate'], bins=10, color='red', edgecolor='black')"
   ]
  },
  {
   "metadata": {},
   "cell_type": "code",
   "outputs": [
    {
     "data": {
      "text/plain": [
       "(array([  6.,   3.,  13.,  28.,  42., 160., 156.,  64.,  16.,   3.]),\n",
       " array([ 362.7339585 ,  794.99974625, 1227.265534  , 1659.53132175,\n",
       "        2091.7971095 , 2524.06289725, 2956.328685  , 3388.59447275,\n",
       "        3820.8602605 , 4253.12604825, 4685.391836  ]),\n",
       " <BarContainer object of 10 artists>)"
      ]
     },
     "execution_count": 23,
     "metadata": {},
     "output_type": "execute_result"
    },
    {
     "data": {
      "image/png": "[encoded data removed]",
      "text/plain": [
       "<Figure size 640x480 with 1 Axes>"
      ]
     },
     "metadata": {},
     "output_type": "display_data"
    }
   ],
   "execution_count": 23,
   "source": [
    "#plotting histogram for total energy\n",
    "plt.hist(data['TotalEnergy'], bins=10, color='green', edgecolor='black')"
   ]
  },
  {
   "metadata": {},
   "cell_type": "code",
   "outputs": [],
   "execution_count": null,
   "source": ""
  },
  {
   "metadata": {},
   "cell_type": "markdown",
   "source": [
    "**Question**\n",
    "\n",
    "For each of the features, comment on the shape of the distribution. \n",
    "\n",
    "Enter your answer in the text cell below:"
   ]
  },
  {
   "metadata": {},
   "cell_type": "markdown",
   "source": [
    "**Answer:**\n",
    "The heating water flow rate distribution is right-skewed, the cooling water flow rate distribution is left-skewed, and the total energy distribution is right-skewed.\n"
   ]
  },
  {
   "metadata": {},
   "cell_type": "markdown",
   "source": "## Scatter Plot "
  },
  {
   "metadata": {},
   "cell_type": "markdown",
   "source": "Create three scatter plots: the x axis for each plot is time and the y-axis of the plot represents each of the three features."
  },
  {
   "metadata": {},
   "cell_type": "code",
   "outputs": [
    {
     "data": {
      "text/plain": [
       "<matplotlib.collections.PathCollection at 0x22139316f00>"
      ]
     },
     "execution_count": 24,
     "metadata": {},
     "output_type": "execute_result"
    },
    {
     "data": {
      "image/png": "[encoded data removed]",
      "text/plain": [
       "<Figure size 640x480 with 1 Axes>"
      ]
     },
     "metadata": {},
     "output_type": "display_data"
    }
   ],
   "execution_count": 24,
   "source": [
    "#scatter plot for heating water flow rate\n",
    "plt.scatter(data['Time'], data['Heating Water Flow Rate'])"
   ]
  },
  {
   "metadata": {},
   "cell_type": "code",
   "outputs": [
    {
     "data": {
      "text/plain": [
       "<matplotlib.collections.PathCollection at 0x2213b2e6f00>"
      ]
     },
     "execution_count": 25,
     "metadata": {},
     "output_type": "execute_result"
    },
    {
     "data": {
      "image/png": "[encoded data removed]",
      "text/plain": [
       "<Figure size 640x480 with 1 Axes>"
      ]
     },
     "metadata": {},
     "output_type": "display_data"
    }
   ],
   "execution_count": 25,
   "source": [
    "#scatter plot for cooling water flow rate\n",
    "plt.scatter(data['Time'], data['Cooling Water Flow Rate'])"
   ]
  },
  {
   "metadata": {},
   "cell_type": "code",
   "outputs": [
    {
     "data": {
      "text/plain": [
       "<matplotlib.collections.PathCollection at 0x2213b3d6a80>"
      ]
     },
     "execution_count": 26,
     "metadata": {},
     "output_type": "execute_result"
    }
   ],
   "execution_count": null,
   "source": [
    "#scatter plot for total energy\n",
    "plt.scatter(data['Time'], data['TotalEnergy'])"
   ]
  },
  {
   "metadata": {},
   "cell_type": "markdown",
   "source": "In the spalce below, type your experience with your colab project experience. What you like, what you dislike and what you would like to experience in the future colab projects."
  },
  {
   "metadata": {},
   "cell_type": "markdown",
   "source": "I have expierence with pythonm so the coding was usefull and not overly challenging, but I could see it being more difficult for a new user, espically installing numpy, pands and matplotlib. I don't have any experince with jupyter notebooks, so I found it difficult to navigate and use. I would like to experience more colab projects in the future to get more comfortable with the platform."
  },
  {
   "metadata": {},
   "cell_type": "code",
   "outputs": [],
   "execution_count": null,
   "source": ""
  },
  {
   "metadata": {},
   "cell_type": "code",
   "outputs": [],
   "execution_count": null,
   "source": ""
  },
  {
   "metadata": {},
   "cell_type": "code",
   "outputs": [],
   "execution_count": null,
   "source": ""
  }
 ],
 "metadata": {
  "colab": {
   "authorship_tag": "ABX9TyNbVNSXt9bS/BmEE8CuBxSA",
   "include_colab_link": true,
   "name": "ISEN 370 Project 1 Assignment.ipynb",
   "provenance": []
  },
  "kernelspec": {
   "display_name": "Python 3 (ipykernel)",
   "language": "python",
   "name": "python3"
  },
  "language_info": {
   "codemirror_mode": {
    "name": "ipython",
    "version": 3
   },
   "file_extension": ".py",
   "mimetype": "text/x-python",
   "name": "python",
   "nbconvert_exporter": "python",
   "pygments_lexer": "ipython3",
   "version": "3.12.3"
  }
 },
 "nbformat": 4,
 "nbformat_minor": 4
}
